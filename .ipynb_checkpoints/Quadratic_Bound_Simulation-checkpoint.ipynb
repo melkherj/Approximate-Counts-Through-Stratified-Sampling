{
 "metadata": {
  "name": ""
 },
 "nbformat": 3,
 "nbformat_minor": 0,
 "worksheets": [
  {
   "cells": [
    {
     "cell_type": "code",
     "collapsed": false,
     "input": [
      "import pandas as pd\n",
      "import numpy as np\n",
      "import random\n",
      "from utils import sample_bernouli, choose_alpha, choose_min_alpha"
     ],
     "language": "python",
     "metadata": {},
     "outputs": [],
     "prompt_number": 1
    },
    {
     "cell_type": "markdown",
     "metadata": {},
     "source": [
      "### Latex Macros ###\n",
      "$$ \\newcommand{\\kl}[2]{KL(#1 \\parallel #2)}$$\n"
     ]
    },
    {
     "cell_type": "markdown",
     "metadata": {},
     "source": [
      "### Tight Quadratic KL Lower-Bound ###\n",
      "\n",
      "Let $p,q \\in (0,1)$ and $p < q$.  Define $\\epsilon = q-p$.  \n",
      "\n",
      "We want the tightest possible lower bound of the form $\\alpha \\epsilon^2 \\leq \\kl{q}{p}$.  \n",
      "\n",
      "Based on simulations, a simple procedure gives the tightest $\\alpha$:\n",
      "\n",
      "$$ \\alpha = \\begin{cases}\n",
      "    \\frac{  \\kl{1-p}{p} }{(1-2p)^2} & p < 0.5 \\\\\n",
      "    \\frac{1}{2p(1-p)}              & p >= 0.5\n",
      "    \\end{cases}\n",
      "$$\n"
     ]
    },
    {
     "cell_type": "markdown",
     "metadata": {},
     "source": [
      "### Cumulative Computations, and other Helper Functions ###\n",
      "These include:\n",
      "\n",
      "* $\\hat{p_t}$: Cumulative average\n",
      "* $\\hat{\\sigma_t}$: Cumulative standard deviation\n",
      "* $\\epsilon_t$ (bernstein): Cumulative error bounds on the $\\hat{p_t}$ estimator, that hold uniformly with probability $1-\\delta$\n",
      "* prior_term/empirical_term: helper functions that compute the first and second terms of the error above"
     ]
    },
    {
     "cell_type": "code",
     "collapsed": false,
     "input": [
      "K = 1\n",
      "ns = np.array([1])\n",
      "ps = array([10**(-4)]) #*(K-1)+[0.99]) # highly non-uniform\n",
      "# The number of items in the entire table\n",
      "N = sum(ns)\n",
      "# Total samples to generate\n",
      "#t0 = 100000\n",
      "t0 = 10000\n",
      "t1 = 100000\n",
      "stratified_samples0 = [sample_bernouli(p,int(t0*float(n)/N)) for n,p in zip(ns,ps)]\n",
      "stratified_samples1 = [sample_bernouli(p,int(t1*float(n)/N)) for n,p in zip(ns,ps)]\n",
      "#all_samples = [s for samples in stratified_samples1 for s in samples]"
     ],
     "language": "python",
     "metadata": {},
     "outputs": [],
     "prompt_number": 34
    },
    {
     "cell_type": "code",
     "collapsed": false,
     "input": [
      "d = 0.05\n",
      "d2 = d / (K*2)\n",
      "epsilon = 10**(-4)\n",
      "\n",
      "ps_estimated = map(mean,stratified_samples0)\n",
      "# Make sure we don't get 0 or 1 for ps_estimated\n",
      "ps_estimated = [p + (10**(-10))*(-1)**(p>0.5) for p in ps_estimated]\n",
      "print ps_estimated\n",
      "alpha = map(choose_min_alpha, ps_estimated)\n",
      "a = ns*np.sqrt(log(2/d2)/alpha)\n",
      "b = N*epsilon\n",
      "\n",
      "# Assuming 1-norm for t objective\n",
      "x = b / ( sum(np.sqrt(a)) * sqrt(a))\n",
      "t = 1/(x**2)"
     ],
     "language": "python",
     "metadata": {},
     "outputs": [
      {
       "output_type": "stream",
       "stream": "stdout",
       "text": [
        "[1e-10]\n"
       ]
      }
     ],
     "prompt_number": 35
    },
    {
     "cell_type": "code",
     "collapsed": false,
     "input": [
      "print t\n",
      "print 'stratified: %.3e'%sum(t)\n",
      "print ' hoeffding: %.3e'%( 1/(2*epsilon**2)*log(2/d) )\n",
      "print sum(ps*ns)/N"
     ],
     "language": "python",
     "metadata": {},
     "outputs": [
      {
       "output_type": "stream",
       "stream": "stdout",
       "text": [
        "[ 19030899.86619589]\n",
        "stratified: 1.903e+07\n",
        " hoeffding: 1.844e+08\n",
        "0.0001\n"
       ]
      }
     ],
     "prompt_number": 36
    },
    {
     "cell_type": "raw",
     "metadata": {},
     "source": [
      "K=1, p=10**-2\n",
      "\n",
      "epsilon = 10**-3\n",
      "hoeffding: 1.844e+06\n",
      "\n",
      "epsilon = 10**-3\n",
      "stratified: 6.238e+07\n",
      " hoeffding: 1.844e+08"
     ]
    },
    {
     "cell_type": "code",
     "collapsed": false,
     "input": [
      "1.844*10**(8) /  (6.238*10**7)"
     ],
     "language": "python",
     "metadata": {},
     "outputs": [
      {
       "metadata": {},
       "output_type": "pyout",
       "prompt_number": 27,
       "text": [
        "2.956075665277332"
       ]
      }
     ],
     "prompt_number": 27
    },
    {
     "cell_type": "code",
     "collapsed": false,
     "input": [],
     "language": "python",
     "metadata": {},
     "outputs": []
    }
   ],
   "metadata": {}
  }
 ]
}